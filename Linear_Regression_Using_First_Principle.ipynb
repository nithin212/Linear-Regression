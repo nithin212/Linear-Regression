{
 "cells": [
  {
   "cell_type": "code",
   "execution_count": 151,
   "metadata": {},
   "outputs": [],
   "source": [
    "import pandas as pd\n",
    "import numpy as np"
   ]
  },
  {
   "cell_type": "markdown",
   "metadata": {},
   "source": [
    ">>**Equation to develop linear regression- Using First Principle** "
   ]
  },
  {
   "cell_type": "code",
   "execution_count": 154,
   "metadata": {},
   "outputs": [
    {
     "name": "stdout",
     "output_type": "stream",
     "text": [
      "---------Eqaution for linear regression---------\n",
      "y=3.470744680851064 + 21.69255319148936\n",
      "---------Root of Mean Square Error---------\n",
      "4.72311540711596\n"
     ]
    }
   ],
   "source": [
    "def funcy(a1,a2,a1m,a2m):\n",
    "    m=(sum(a1*a2)-len(a1)*a1m*a2m)/(sum(a1**2)-len(a1)*(a1m**2))\n",
    "    c=a2m-(m*a1m)\n",
    "    return(m,c)\n",
    "def errorid(a2,slop,inter):\n",
    "    ycap=(slop*a1)+inter\n",
    "    s=np.sqrt((sum((a2-ycap)**2))/len(a2))\n",
    "    return(s,ycap)   \n",
    "a1=np.array([4,9,10,14,4,7,12,22,1,17])\n",
    "a2=np.array([31,58,65,73,37,44,60,91,21,84])\n",
    "a1m=np.mean(a1)\n",
    "a2m=np.mean(a2)\n",
    "print(\"---------Eqaution for linear regression---------\")\n",
    "slop,inter=funcy(a1,a2,a1m,a2m)\n",
    "print(f'y={slop} + {inter}')\n",
    "print(\"---------Root of Mean Square Error---------\")\n",
    "l,ycap=errorid(a2,slop,inter)\n",
    "print(l)"
   ]
  },
  {
   "cell_type": "code",
   "execution_count": 112,
   "metadata": {},
   "outputs": [],
   "source": [
    "import matplotlib.pyplot as plt\n",
    "%matplotlib inline\n",
    "import seaborn as sb"
   ]
  },
  {
   "cell_type": "code",
   "execution_count": 116,
   "metadata": {},
   "outputs": [
    {
     "data": {
      "text/plain": [
       "[<matplotlib.lines.Line2D at 0x1b25c05f860>]"
      ]
     },
     "execution_count": 116,
     "metadata": {},
     "output_type": "execute_result"
    },
    {
     "data": {
      "image/png": "[encoded data removed]",
      "text/plain": [
       "<Figure size 432x288 with 1 Axes>"
      ]
     },
     "metadata": {
      "needs_background": "light"
     },
     "output_type": "display_data"
    }
   ],
   "source": [
    "plt.scatter(a1,a2,color='red')\n",
    "plt.plot(a1,ycap)"
   ]
  },
  {
   "cell_type": "code",
   "execution_count": 145,
   "metadata": {},
   "outputs": [
    {
     "data": {
      "text/plain": [
       "[<matplotlib.lines.Line2D at 0x1b25d6f9358>]"
      ]
     },
     "execution_count": 145,
     "metadata": {},
     "output_type": "execute_result"
    },
    {
     "data": {
      "image/png": "[encoded data removed]",
      "text/plain": [
       "<Figure size 432x288 with 1 Axes>"
      ]
     },
     "metadata": {
      "needs_background": "light"
     },
     "output_type": "display_data"
    }
   ],
   "source": [
    "plt.scatter(a1,a2-ycap,color=\"red\")\n",
    "plt.plot(a1,a2*0)\n",
    "\n",
    "'''When corelation is not equal to zero we go for linear regression .\n",
    "Since there is no pattern around for residual plot we can conclude that regression we have choosen that is linear regression\n",
    "is correct.Residual plot will help to understand whetherr depend variabe and independennt varialbles is linear or not.'''"
   ]
  },
  {
   "cell_type": "markdown",
   "metadata": {},
   "source": [
    "## R2 Measure"
   ]
  },
  {
   "cell_type": "code",
   "execution_count": 150,
   "metadata": {},
   "outputs": [
    {
     "name": "stdout",
     "output_type": "stream",
     "text": [
      "Coefficicent of Determination, R(square)= 0.9530598873223295\n"
     ]
    }
   ],
   "source": [
    "residue=a2-ycap\n",
    "R2=1-sum(residue**2)/sum((a2-a2m)**2)\n",
    "print(\"Coefficicent of Determination, R(square)=\",R2)"
   ]
  },
  {
   "cell_type": "code",
   "execution_count": null,
   "metadata": {},
   "outputs": [],
   "source": []
  },
  {
   "cell_type": "code",
   "execution_count": null,
   "metadata": {},
   "outputs": [],
   "source": []
  },
  {
   "cell_type": "code",
   "execution_count": null,
   "metadata": {},
   "outputs": [],
   "source": []
  }
 ],
 "metadata": {
  "kernelspec": {
   "display_name": "Python 3",
   "language": "python",
   "name": "python3"
  },
  "language_info": {
   "codemirror_mode": {
    "name": "ipython",
    "version": 3
   },
   "file_extension": ".py",
   "mimetype": "text/x-python",
   "name": "python",
   "nbconvert_exporter": "python",
   "pygments_lexer": "ipython3",
   "version": "3.7.3"
  }
 },
 "nbformat": 4,
 "nbformat_minor": 2
}
